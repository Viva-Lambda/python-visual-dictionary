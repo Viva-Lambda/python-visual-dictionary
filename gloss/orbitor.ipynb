{
 "cells": [
  {
   "cell_type": "markdown",
   "metadata": {},
   "source": [
    "# Python: Or, |"
   ]
  },
  {
   "cell_type": "code",
   "execution_count": 47,
   "metadata": {},
   "outputs": [
    {
     "name": "stdout",
     "output_type": "stream",
     "text": [
      "22\n",
      "30\n"
     ]
    }
   ],
   "source": [
    "a = 22\n",
    "b = 28\n",
    "c = a or b\n",
    "e = a | b\n",
    "print(c)\n",
    "print(e)"
   ]
  },
  {
   "cell_type": "code",
   "execution_count": 48,
   "metadata": {},
   "outputs": [
    {
     "name": "stdout",
     "output_type": "stream",
     "text": [
      "10110\n",
      "11100\n",
      "11110\n"
     ]
    }
   ],
   "source": [
    "print(bin(a).lstrip(\"-0b\")) # getting rid of leading zeros\n",
    "print(bin(b).lstrip(\"-0b\"))\n",
    "print(bin(e).lstrip(\"-0b\"))"
   ]
  },
  {
   "cell_type": "code",
   "execution_count": 49,
   "metadata": {},
   "outputs": [],
   "source": [
    "def bit_or(int1, int2):\n",
    "    if int1.bit_length() != int2.bit_length():\n",
    "        return None\n",
    "    b1s = bin(int1).lstrip(\"-0b\")\n",
    "    b2s = bin(int2).lstrip(\"-0b\")\n",
    "    sub = []\n",
    "    for i in range(len(b1s)):\n",
    "        b1 = int(b1s[i])\n",
    "        b2 = int(b2s[i])\n",
    "        if b1 == 1:\n",
    "            sub.append(str(b1))\n",
    "        elif b2 == 1:\n",
    "            sub.append(str(b2))\n",
    "        elif b1 == 0:\n",
    "            if b2 == 0:\n",
    "                sub.append(str(b2))\n",
    "    return \"\".join(sub)      "
   ]
  },
  {
   "cell_type": "code",
   "execution_count": 50,
   "metadata": {},
   "outputs": [
    {
     "name": "stdout",
     "output_type": "stream",
     "text": [
      "11110\n",
      "30\n"
     ]
    }
   ],
   "source": [
    "f = bit_or(a, b)\n",
    "print(f)\n",
    "print(int(f, 2))"
   ]
  },
  {
   "cell_type": "code",
   "execution_count": null,
   "metadata": {},
   "outputs": [],
   "source": []
  },
  {
   "cell_type": "code",
   "execution_count": null,
   "metadata": {},
   "outputs": [],
   "source": []
  }
 ],
 "metadata": {
  "kernelspec": {
   "display_name": "Python 3",
   "language": "python",
   "name": "python3"
  },
  "language_info": {
   "codemirror_mode": {
    "name": "ipython",
    "version": 3
   },
   "file_extension": ".py",
   "mimetype": "text/x-python",
   "name": "python",
   "nbconvert_exporter": "python",
   "pygments_lexer": "ipython3",
   "version": "3.7.6"
  }
 },
 "nbformat": 4,
 "nbformat_minor": 2
}
