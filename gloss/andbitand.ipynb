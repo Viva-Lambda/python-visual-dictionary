{
 "cells": [
  {
   "cell_type": "markdown",
   "metadata": {},
   "source": [
    "# Python: And, &"
   ]
  },
  {
   "cell_type": "code",
   "execution_count": 3,
   "metadata": {},
   "outputs": [
    {
     "name": "stdout",
     "output_type": "stream",
     "text": [
      "26\n",
      "16\n"
     ]
    }
   ],
   "source": [
    "a = 21\n",
    "b = 26\n",
    "c = a and b # False == 0, True == 1\n",
    "e = a & b\n",
    "print(c)\n",
    "print(e)"
   ]
  },
  {
   "cell_type": "code",
   "execution_count": 4,
   "metadata": {},
   "outputs": [
    {
     "name": "stdout",
     "output_type": "stream",
     "text": [
      "10101\n",
      "11010\n",
      "10000\n"
     ]
    }
   ],
   "source": [
    "print(bin(a).lstrip(\"-0b\")) # getting rid of leading zeros\n",
    "print(bin(b).lstrip(\"-0b\"))\n",
    "print(bin(e).lstrip(\"-0b\"))"
   ]
  },
  {
   "cell_type": "code",
   "execution_count": 5,
   "metadata": {},
   "outputs": [],
   "source": [
    "def bit_and(int1, int2):\n",
    "    if int1.bit_length() != int2.bit_length():\n",
    "        return None\n",
    "    b1s = bin(int1).lstrip(\"-0b\")\n",
    "    b2s = bin(int2).lstrip(\"-0b\")\n",
    "    sub = []\n",
    "    for i in range(len(b1s)):\n",
    "        b1 = int(b1s[i])\n",
    "        b2 = int(b2s[i])\n",
    "        sub.append(str(b1 * b2))\n",
    "    return \"\".join(sub)      "
   ]
  },
  {
   "cell_type": "code",
   "execution_count": 6,
   "metadata": {},
   "outputs": [
    {
     "name": "stdout",
     "output_type": "stream",
     "text": [
      "10000\n",
      "16\n"
     ]
    }
   ],
   "source": [
    "f = bit_and(a, b)\n",
    "print(f)\n",
    "print(int(f, 2))"
   ]
  },
  {
   "cell_type": "code",
   "execution_count": null,
   "metadata": {},
   "outputs": [],
   "source": []
  }
 ],
 "metadata": {
  "kernelspec": {
   "display_name": "Python 3",
   "language": "python",
   "name": "python3"
  },
  "language_info": {
   "codemirror_mode": {
    "name": "ipython",
    "version": 3
   },
   "file_extension": ".py",
   "mimetype": "text/x-python",
   "name": "python",
   "nbconvert_exporter": "python",
   "pygments_lexer": "ipython3",
   "version": "3.7.6"
  }
 },
 "nbformat": 4,
 "nbformat_minor": 2
}
