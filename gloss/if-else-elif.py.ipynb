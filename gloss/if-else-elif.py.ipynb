{
 "cells": [
  {
   "cell_type": "markdown",
   "metadata": {},
   "source": [
    "# Python: If-else-elif"
   ]
  },
  {
   "cell_type": "code",
   "execution_count": null,
   "metadata": {},
   "outputs": [],
   "source": [
    "var = 19\n",
    "e = var < 10 # False\n",
    "if e:\n",
    "    print(\"var < 10:\", e)\n",
    "else:\n",
    "    print(\"var >= 10:\", e)\n",
    "    \n",
    "print(\"var: \", var)"
   ]
  },
  {
   "cell_type": "code",
   "execution_count": null,
   "metadata": {},
   "outputs": [],
   "source": [
    "var = 12\n",
    "e1 = var < 10 # False\n",
    "e2 = (var % 2) == 0  # False\n",
    "\n",
    "## Bad use of elif not having\n",
    "## disjunctive conditions\n",
    "if e1:\n",
    "    print(\"var < 10:\", e1)\n",
    "elif not e1: # else if\n",
    "    print(\"var >= 10\", e1)\n",
    "elif e2:\n",
    "    print(\"(var % 2) == 0\", e2)\n",
    "else:\n",
    "    print(\"---------\")\n",
    "    \n",
    "print(\"var: \", var)\n",
    "\n",
    "## Better use\n",
    "if var < 1:\n",
    "    print(\"var < 1\")\n",
    "elif var < 5:\n",
    "    print(\"1 <= var < 5\")\n",
    "else:\n",
    "    print(\"var >= 5\")\n"
   ]
  },
  {
   "cell_type": "code",
   "execution_count": null,
   "metadata": {},
   "outputs": [],
   "source": []
  }
 ],
 "metadata": {
  "kernelspec": {
   "display_name": "Python 3",
   "language": "python",
   "name": "python3"
  },
  "language_info": {
   "codemirror_mode": {
    "name": "ipython",
    "version": 3
   },
   "file_extension": ".py",
   "mimetype": "text/x-python",
   "name": "python",
   "nbconvert_exporter": "python",
   "pygments_lexer": "ipython3",
   "version": "3.7.6"
  }
 },
 "nbformat": 4,
 "nbformat_minor": 2
}
