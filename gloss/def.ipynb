{
 "cells": [
  {
   "cell_type": "markdown",
   "metadata": {},
   "source": [
    "# def"
   ]
  },
  {
   "cell_type": "code",
   "execution_count": 1,
   "metadata": {},
   "outputs": [],
   "source": [
    "def fn(arg1: float, arg2: int, *args, arg3=None **kwargs) -> str:\n",
    "    \"Summary\"\n",
    "    val = arg1 + arg2 \n",
    "    for arg in args:\n",
    "        val += arg\n",
    "    out_type = kwargs[\"output_type\"]\n",
    "    if out_type == \"float\":\n",
    "        retval = float(val)\n",
    "    else:\n",
    "        retval = int(val)\n",
    "    return retval"
   ]
  },
  {
   "cell_type": "code",
   "execution_count": null,
   "metadata": {},
   "outputs": [],
   "source": []
  }
 ],
 "metadata": {
  "kernelspec": {
   "display_name": "Python 3",
   "language": "python",
   "name": "python3"
  },
  "language_info": {
   "codemirror_mode": {
    "name": "ipython",
    "version": 3
   },
   "file_extension": ".py",
   "mimetype": "text/x-python",
   "name": "python",
   "nbconvert_exporter": "python",
   "pygments_lexer": "ipython3",
   "version": "3.7.6"
  }
 },
 "nbformat": 4,
 "nbformat_minor": 2
}
