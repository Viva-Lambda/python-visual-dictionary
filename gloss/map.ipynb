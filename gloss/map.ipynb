{
 "cells": [
  {
   "cell_type": "markdown",
   "metadata": {},
   "source": [
    "# `map` function"
   ]
  },
  {
   "cell_type": "markdown",
   "metadata": {},
   "source": [
    "```\n",
    "map(f, lst)\n",
    "1   2   3\n",
    "\n",
    "1: keyword\n",
    "2: applied function\n",
    "3: collection\n",
    "```"
   ]
  },
  {
   "cell_type": "code",
   "execution_count": 3,
   "metadata": {},
   "outputs": [
    {
     "name": "stdout",
     "output_type": "stream",
     "text": [
      "1\n",
      "9\n",
      "4\n",
      "25\n",
      "16\n"
     ]
    }
   ],
   "source": [
    "def fn(x): return x ** 2\n",
    "\n",
    "mylst = [1, 3, 2, 5, 4]\n",
    "\n",
    "for new_value in map(fn, mylst):\n",
    "    print(str(new_value))"
   ]
  },
  {
   "cell_type": "code",
   "execution_count": 4,
   "metadata": {},
   "outputs": [
    {
     "name": "stdout",
     "output_type": "stream",
     "text": [
      "29\n",
      "7\n"
     ]
    }
   ],
   "source": [
    "def serie_sum(lst): return sum(lst)\n",
    "\n",
    "mydict = {\"a\": [1, 20, 3, 5], \"b\": [2,2,3]}\n",
    "\n",
    "for new in map(serie_sum, mydict.values()):\n",
    "    print(str(new))"
   ]
  },
  {
   "cell_type": "code",
   "execution_count": 5,
   "metadata": {},
   "outputs": [
    {
     "name": "stdout",
     "output_type": "stream",
     "text": [
      "ab\n",
      "yd\n",
      "os\n"
     ]
    }
   ],
   "source": [
    "def item_apply(tpl): return tpl[0] + tpl[1]\n",
    "\n",
    "mydict = {\"a\": \"b\", \"y\": \"d\", \"o\": \"s\"}\n",
    "\n",
    "for myc in map(item_apply, mydict.items()):\n",
    "    print(myc)"
   ]
  },
  {
   "cell_type": "code",
   "execution_count": null,
   "metadata": {},
   "outputs": [],
   "source": []
  }
 ],
 "metadata": {
  "kernelspec": {
   "display_name": "Python 3",
   "language": "python",
   "name": "python3"
  },
  "language_info": {
   "codemirror_mode": {
    "name": "ipython",
    "version": 3
   },
   "file_extension": ".py",
   "mimetype": "text/x-python",
   "name": "python",
   "nbconvert_exporter": "python",
   "pygments_lexer": "ipython3",
   "version": "3.7.6"
  }
 },
 "nbformat": 4,
 "nbformat_minor": 2
}
