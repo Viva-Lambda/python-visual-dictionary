{
 "cells": [
  {
   "cell_type": "markdown",
   "metadata": {},
   "source": [
    "# Python: If-else-elif"
   ]
  },
  {
   "cell_type": "code",
   "execution_count": 5,
   "metadata": {},
   "outputs": [
    {
     "name": "stdout",
     "output_type": "stream",
     "text": [
      "var >= 10: False\n",
      "var:  19\n"
     ]
    }
   ],
   "source": [
    "var = 19\n",
    "e = var < 10 # True\n",
    "if e:\n",
    "    print(\"var < 10:\", e)\n",
    "else:\n",
    "    print(\"var >= 10:\", e)\n",
    "    \n",
    "print(\"var: \", var)"
   ]
  },
  {
   "cell_type": "code",
   "execution_count": 6,
   "metadata": {},
   "outputs": [
    {
     "name": "stdout",
     "output_type": "stream",
     "text": [
      "var < 10: True\n",
      "var:  9\n"
     ]
    }
   ],
   "source": [
    "var = 9\n",
    "e1 = var < 10 # True\n",
    "e2 = (var % 2) == 0  # False\n",
    "if e1:\n",
    "    print(\"var < 10:\", e1)\n",
    "elif not e1: # else if\n",
    "    print(\"var >= 10\", e1)\n",
    "elif e2:\n",
    "    print(\"(var % 2) == 0\", e2)\n",
    "else:\n",
    "    print(\"---------\")\n",
    "\n",
    "print(\"var: \", var)"
   ]
  },
  {
   "cell_type": "code",
   "execution_count": null,
   "metadata": {},
   "outputs": [],
   "source": []
  }
 ],
 "metadata": {
  "kernelspec": {
   "display_name": "Python 3",
   "language": "python",
   "name": "python3"
  },
  "language_info": {
   "codemirror_mode": {
    "name": "ipython",
    "version": 3
   },
   "file_extension": ".py",
   "mimetype": "text/x-python",
   "name": "python",
   "nbconvert_exporter": "python",
   "pygments_lexer": "ipython3",
   "version": "3.7.6"
  }
 },
 "nbformat": 4,
 "nbformat_minor": 2
}
